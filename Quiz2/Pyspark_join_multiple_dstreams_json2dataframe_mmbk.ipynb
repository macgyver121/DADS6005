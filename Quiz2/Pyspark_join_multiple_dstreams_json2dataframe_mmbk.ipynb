{
  "nbformat": 4,
  "nbformat_minor": 0,
  "metadata": {
    "colab": {
      "provenance": [],
      "include_colab_link": true
    },
    "kernelspec": {
      "name": "python3",
      "display_name": "Python 3"
    },
    "language_info": {
      "name": "python"
    }
  },
  "cells": [
    {
      "cell_type": "markdown",
      "metadata": {
        "id": "view-in-github",
        "colab_type": "text"
      },
      "source": [
        "<a href=\"https://colab.research.google.com/github/macgyver121/DADS6005/blob/main/Quiz2/Pyspark_join_multiple_dstreams_json2dataframe_mmbk.ipynb\" target=\"_parent\"><img src=\"https://colab.research.google.com/assets/colab-badge.svg\" alt=\"Open In Colab\"/></a>"
      ]
    },
    {
      "cell_type": "code",
      "execution_count": 1,
      "metadata": {
        "id": "FxRUnxF4PBdy"
      },
      "outputs": [],
      "source": [
        "%%capture\n",
        "!apt-get install openjdk-8-jdk-headless -qq > /dev/null\n",
        "!wget https://mirrors.estointernet.in/apache/spark/spark-2.4.8/spark-2.4.8-bin-hadoop2.7.tgz\n",
        "!tar -xvf spark-2.4.8-bin-hadoop2.7.tgz\n",
        "!pip install findspark"
      ]
    },
    {
      "cell_type": "code",
      "source": [
        "%%capture\n",
        "!wget \"https://repo1.maven.org/maven2/org/apache/spark/spark-streaming-kafka-0-8-assembly_2.11/2.4.8/spark-streaming-kafka-0-8-assembly_2.11-2.4.8.jar\""
      ],
      "metadata": {
        "id": "ysUW0BrpPyQR"
      },
      "execution_count": 2,
      "outputs": []
    },
    {
      "cell_type": "code",
      "source": [
        "import os\n",
        "os.environ[\"JAVA_HOME\"] = \"/usr/lib/jvm/java-8-openjdk-amd64\"\n",
        "os.environ[\"SPARK_HOME\"] = \"/content/spark-2.4.8-bin-hadoop2.7\"\n",
        "os.environ['PYSPARK_SUBMIT_ARGS'] = '--jars /content/spark-streaming-kafka-0-8-assembly_2.11-2.4.8.jar pyspark-shell'"
      ],
      "metadata": {
        "id": "m2ph4QQcQDTp"
      },
      "execution_count": 3,
      "outputs": []
    },
    {
      "cell_type": "code",
      "source": [
        "import findspark\n",
        "findspark.init()\n",
        "from pyspark.sql import SparkSession\n",
        "from pyspark.sql.functions import *\n",
        "from pyspark.ml.feature import Normalizer, StandardScaler\n",
        "import pyspark\n",
        "from pyspark import SparkContext, SparkConf\n",
        "from pyspark.streaming import StreamingContext\n",
        "from pyspark.streaming.kafka import KafkaUtils\n",
        "import json"
      ],
      "metadata": {
        "id": "9C4yFGwjQKvZ"
      },
      "execution_count": 4,
      "outputs": []
    },
    {
      "cell_type": "markdown",
      "source": [
        "Ex1"
      ],
      "metadata": {
        "id": "_46eTXSPbvuP"
      }
    },
    {
      "cell_type": "code",
      "source": [
        "def readMyStream(rdd):\n",
        "  if not rdd.isEmpty():\n",
        "    df = spark.read.json(rdd)\n",
        "    print(df.dtypes)\n",
        "    print('Started the Process')\n",
        "    print('Selection of Columns')\n",
        "    df = df.select('firstname','lastname')\n",
        "    df.show()"
      ],
      "metadata": {
        "id": "GqHJi4mQMInm"
      },
      "execution_count": 5,
      "outputs": []
    },
    {
      "cell_type": "markdown",
      "source": [
        "Ex2"
      ],
      "metadata": {
        "id": "Y55eizpGbwnH"
      }
    },
    {
      "cell_type": "code",
      "source": [
        "def readMyStream2(rdd):\n",
        "  if not rdd.isEmpty():\n",
        "    df = spark.read.json(rdd)\n",
        "    df.show()\n",
        "\n",
        "    # The inferred schema can be visualized using the printSchema() method\n",
        "    #df.printSchema()\n",
        "\n",
        "    # Creates a temporary view using the DataFrame\n",
        "    #df.createOrReplaceTempView(\"people\")\n",
        "\n",
        "    # SQL statements can be run by using the sql methods provided by spark\n",
        "    #resultDF = spark.sql(\"SELECT * FROM people\")\n",
        "    #resultDF.show()"
      ],
      "metadata": {
        "id": "Qnr5dEBebuP4"
      },
      "execution_count": 6,
      "outputs": []
    },
    {
      "cell_type": "code",
      "source": [
        "from pyspark.sql import functions as func"
      ],
      "metadata": {
        "id": "YRIAuIM9ouOF"
      },
      "execution_count": 7,
      "outputs": []
    },
    {
      "cell_type": "code",
      "source": [
        "def readMyStream3(rdd1,rdd2):\n",
        "    if not rdd1.isEmpty():\n",
        "        df1 = spark.read.json(rdd1)\n",
        "        df2 = spark.read.json(rdd2)\n",
        "        #df1.show()\n",
        "        #df2.show()\n",
        "        \n",
        "        df3 = df1.join(df2,['id'])\n",
        "        #df3.show()\n",
        "        df3.select('id', 'country', 'num_click').show()\n",
        "        df3.groupBy('country').sum('num_click').show()\n",
        "        #df3.createOrReplaceTempView(\"table\")\n",
        "        #resultDF = spark.sql(\"SELECT sum(num_click) FROM table\")\n",
        "        #resultDF.show()"
      ],
      "metadata": {
        "id": "74aIx6CrgGDM"
      },
      "execution_count": 33,
      "outputs": []
    },
    {
      "cell_type": "code",
      "source": [
        "kafka_topic_name = \"my-first-topic-mmbk8\"\n",
        "kafka_topic_name2 = \"my-first-topic2-mmbk8\"\n",
        "kafka_bootstrap_servers = 'ec2-13-229-46-113.ap-southeast-1.compute.amazonaws.com:9092'"
      ],
      "metadata": {
        "id": "NkOsjPVjQOZx"
      },
      "execution_count": 34,
      "outputs": []
    },
    {
      "cell_type": "code",
      "source": [
        "sc = pyspark.SparkContext()\n",
        "spark = SparkSession(sc)\n",
        "ssc = StreamingContext(sc,2) # Show results every 2 seconds"
      ],
      "metadata": {
        "id": "TNIt3ojoVT3z"
      },
      "execution_count": 35,
      "outputs": []
    },
    {
      "cell_type": "code",
      "source": [
        "kvs1 = KafkaUtils.createDirectStream(ssc, \n",
        "                                    [kafka_topic_name], \n",
        "                                    {\n",
        "                        'bootstrap.servers':kafka_bootstrap_servers,\n",
        "                        'group.id':'test-group',\n",
        "                        'auto.offset.reset':'largest'\n",
        "                        })\n",
        "\n",
        "kvs2 = KafkaUtils.createDirectStream(ssc, \n",
        "                                    [kafka_topic_name2], \n",
        "                                    {\n",
        "                        'bootstrap.servers':kafka_bootstrap_servers,\n",
        "                        'group.id':'test-group',\n",
        "                        'auto.offset.reset':'largest'\n",
        "                        })\n",
        "\n",
        "#kvs1.pprint()\n",
        "#kvs2.pprint()\n",
        "parsed = kvs1.map(lambda x: x[1])\n",
        "#parsed.foreachRDD( lambda rdd: readMyStream2(rdd) )\n",
        "\n",
        "#parsed.pprint()\n",
        "parsed2 = kvs2.map(lambda x: x[1])\n",
        "#parsed2.pprint()\n",
        "\n",
        "parsed.transformWith(readMyStream3,parsed2).window(8,4).pprint()\n",
        "#parsed3.pprint()\n",
        "\n",
        "#parsed.fullOuterJoin(parsed2).pprint(30)\n",
        "\n",
        "\n",
        "#pairs.reduceByKeyAndWindow(lambda x, y: x + y, lambda x, y: x - y, 30, 10)\n",
        "\n",
        "ssc.start()\n",
        "ssc.awaitTerminationOrTimeout(60)\n",
        "ssc.stop()\n",
        "sc.stop()"
      ],
      "metadata": {
        "id": "gNy0brrZQTcy",
        "colab": {
          "base_uri": "https://localhost:8080/"
        },
        "outputId": "e8700ea0-5df4-47fa-a876-5feb00cf0399"
      },
      "execution_count": 36,
      "outputs": [
        {
          "output_type": "stream",
          "name": "stdout",
          "text": [
            "+---+-------+---------+\n",
            "| id|country|num_click|\n",
            "+---+-------+---------+\n",
            "|  5|  Japan|        7|\n",
            "|  3|England|       10|\n",
            "|  4|England|        6|\n",
            "+---+-------+---------+\n",
            "\n",
            "+-------+--------------+\n",
            "|country|sum(num_click)|\n",
            "+-------+--------------+\n",
            "|  Japan|             7|\n",
            "|England|            16|\n",
            "+-------+--------------+\n",
            "\n",
            "+---+--------+---------+\n",
            "| id| country|num_click|\n",
            "+---+--------+---------+\n",
            "|  7|Thailand|        2|\n",
            "|  6|   Japan|        3|\n",
            "|  8|   Japan|        5|\n",
            "+---+--------+---------+\n",
            "\n",
            "+--------+--------------+\n",
            "| country|sum(num_click)|\n",
            "+--------+--------------+\n",
            "|Thailand|             2|\n",
            "|   Japan|             8|\n",
            "+--------+--------------+\n",
            "\n",
            "-------------------------------------------\n",
            "Time: 2022-11-25 05:12:00\n",
            "-------------------------------------------\n",
            "\n",
            "+---+-------+---------+\n",
            "| id|country|num_click|\n",
            "+---+-------+---------+\n",
            "|  5|  Japan|        7|\n",
            "|  3|England|       10|\n",
            "|  4|England|        6|\n",
            "+---+-------+---------+\n",
            "\n",
            "+-------+--------------+\n",
            "|country|sum(num_click)|\n",
            "+-------+--------------+\n",
            "|  Japan|             7|\n",
            "|England|            16|\n",
            "+-------+--------------+\n",
            "\n",
            "+---+--------+---------+\n",
            "| id| country|num_click|\n",
            "+---+--------+---------+\n",
            "|  7|Thailand|        2|\n",
            "|  6|   Japan|        3|\n",
            "|  8|   Japan|        5|\n",
            "+---+--------+---------+\n",
            "\n",
            "+--------+--------------+\n",
            "| country|sum(num_click)|\n",
            "+--------+--------------+\n",
            "|Thailand|             2|\n",
            "|   Japan|             8|\n",
            "+--------+--------------+\n",
            "\n",
            "+---+--------+---------+\n",
            "| id| country|num_click|\n",
            "+---+--------+---------+\n",
            "|  9| England|        4|\n",
            "|  1|Thailand|        5|\n",
            "| 10| England|        9|\n",
            "|  2|Thailand|        2|\n",
            "+---+--------+---------+\n",
            "\n",
            "+--------+--------------+\n",
            "| country|sum(num_click)|\n",
            "+--------+--------------+\n",
            "|Thailand|             7|\n",
            "| England|            13|\n",
            "+--------+--------------+\n",
            "\n",
            "+---+-------+---------+\n",
            "| id|country|num_click|\n",
            "+---+-------+---------+\n",
            "|  5|  Japan|        7|\n",
            "|  3|England|       10|\n",
            "|  4|England|        6|\n",
            "+---+-------+---------+\n",
            "\n",
            "+-------+--------------+\n",
            "|country|sum(num_click)|\n",
            "+-------+--------------+\n",
            "|  Japan|             7|\n",
            "|England|            16|\n",
            "+-------+--------------+\n",
            "\n",
            "-------------------------------------------\n",
            "Time: 2022-11-25 05:12:04\n",
            "-------------------------------------------\n",
            "\n",
            "+---+--------+---------+\n",
            "| id| country|num_click|\n",
            "+---+--------+---------+\n",
            "|  9| England|        4|\n",
            "|  1|Thailand|        5|\n",
            "| 10| England|        9|\n",
            "|  2|Thailand|        2|\n",
            "+---+--------+---------+\n",
            "\n",
            "+--------+--------------+\n",
            "| country|sum(num_click)|\n",
            "+--------+--------------+\n",
            "|Thailand|             7|\n",
            "| England|            13|\n",
            "+--------+--------------+\n",
            "\n",
            "+---+-------+---------+\n",
            "| id|country|num_click|\n",
            "+---+-------+---------+\n",
            "|  5|  Japan|        7|\n",
            "|  3|England|       10|\n",
            "|  4|England|        6|\n",
            "+---+-------+---------+\n",
            "\n",
            "+-------+--------------+\n",
            "|country|sum(num_click)|\n",
            "+-------+--------------+\n",
            "|  Japan|             7|\n",
            "|England|            16|\n",
            "+-------+--------------+\n",
            "\n",
            "+---+--------+---------+\n",
            "| id| country|num_click|\n",
            "+---+--------+---------+\n",
            "|  7|Thailand|        2|\n",
            "|  6|   Japan|        3|\n",
            "|  9| England|        4|\n",
            "| 10| England|        9|\n",
            "|  8|   Japan|        5|\n",
            "+---+--------+---------+\n",
            "\n",
            "+--------+--------------+\n",
            "| country|sum(num_click)|\n",
            "+--------+--------------+\n",
            "|Thailand|             2|\n",
            "|   Japan|             8|\n",
            "| England|            13|\n",
            "+--------+--------------+\n",
            "\n",
            "-------------------------------------------\n",
            "Time: 2022-11-25 05:12:08\n",
            "-------------------------------------------\n",
            "\n",
            "+---+--------+---------+\n",
            "| id| country|num_click|\n",
            "+---+--------+---------+\n",
            "|  7|Thailand|        2|\n",
            "|  6|   Japan|        3|\n",
            "|  9| England|        4|\n",
            "| 10| England|        9|\n",
            "|  8|   Japan|        5|\n",
            "+---+--------+---------+\n",
            "\n",
            "+--------+--------------+\n",
            "| country|sum(num_click)|\n",
            "+--------+--------------+\n",
            "|Thailand|             2|\n",
            "|   Japan|             8|\n",
            "| England|            13|\n",
            "+--------+--------------+\n",
            "\n",
            "-------------------------------------------\n",
            "Time: 2022-11-25 05:12:12\n",
            "-------------------------------------------\n",
            "\n",
            "-------------------------------------------\n",
            "Time: 2022-11-25 05:12:16\n",
            "-------------------------------------------\n",
            "\n"
          ]
        }
      ]
    },
    {
      "cell_type": "code",
      "source": [
        "ssc.stop()\n",
        "sc.stop()"
      ],
      "metadata": {
        "id": "Uji_LW23QVp5",
        "colab": {
          "base_uri": "https://localhost:8080/"
        },
        "outputId": "b6f910c1-ae1b-4976-ee78-2afbefe5113a"
      },
      "execution_count": 32,
      "outputs": [
        {
          "output_type": "stream",
          "name": "stdout",
          "text": [
            "-------------------------------------------\n",
            "Time: 2022-11-25 05:11:08\n",
            "-------------------------------------------\n",
            "\n"
          ]
        }
      ]
    },
    {
      "cell_type": "code",
      "source": [],
      "metadata": {
        "id": "gK3UXgvpq8fk"
      },
      "execution_count": null,
      "outputs": []
    }
  ]
}