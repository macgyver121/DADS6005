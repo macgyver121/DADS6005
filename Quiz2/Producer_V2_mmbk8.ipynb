{
  "cells": [
    {
      "cell_type": "markdown",
      "metadata": {
        "id": "view-in-github",
        "colab_type": "text"
      },
      "source": [
        "<a href=\"https://colab.research.google.com/github/macgyver121/DADS6005/blob/main/Quiz2/Producer_V2_mmbk8.ipynb\" target=\"_parent\"><img src=\"https://colab.research.google.com/assets/colab-badge.svg\" alt=\"Open In Colab\"/></a>"
      ]
    },
    {
      "cell_type": "code",
      "execution_count": null,
      "metadata": {
        "colab": {
          "base_uri": "https://localhost:8080/"
        },
        "id": "iEOZKcobYWbr",
        "outputId": "085431d2-1c1c-4b69-a498-fa708109c5be"
      },
      "outputs": [
        {
          "name": "stdout",
          "output_type": "stream",
          "text": [
            "Looking in indexes: https://pypi.org/simple, https://us-python.pkg.dev/colab-wheels/public/simple/\n",
            "Collecting confluent_kafka\n",
            "  Downloading confluent_kafka-1.9.2-cp37-cp37m-manylinux_2_17_x86_64.manylinux2014_x86_64.whl (3.1 MB)\n",
            "\u001b[K     |████████████████████████████████| 3.1 MB 6.3 MB/s \n",
            "\u001b[?25hInstalling collected packages: confluent-kafka\n",
            "Successfully installed confluent-kafka-1.9.2\n"
          ]
        }
      ],
      "source": [
        "!pip install confluent_kafka"
      ]
    },
    {
      "cell_type": "code",
      "execution_count": 52,
      "metadata": {
        "colab": {
          "base_uri": "https://localhost:8080/"
        },
        "id": "UbHPxw_kYTI3",
        "outputId": "a580a5ae-5a06-4773-9b80-ca95b495e7f2"
      },
      "outputs": [
        {
          "output_type": "stream",
          "name": "stdout",
          "text": [
            "Message delivered to  {\"id\":1,\"country\":\"Thailand\"} \n",
            "Message delivered to  {\"id\":2,\"country\":\"Thailand\"} \n",
            "Message delivered to  {\"id\":3,\"country\":\"England\"} \n",
            "Message delivered to  {\"id\":4,\"country\":\"England\"} \n",
            "Message delivered to  {\"id\":5,\"country\":\"Japan\"} \n",
            "Message delivered to  {\"id\":6,\"country\":\"Japan\"} \n",
            "Message delivered to  {\"id\":7,\"country\":\"Thailand\"} \n",
            "Message delivered to  {\"id\":8,\"country\":\"Japan\"} \n",
            "Message delivered to  {\"id\":9,\"country\":\"England\"} \n",
            "Message delivered to  {\"id\":10,\"country\":\"England\"} \n"
          ]
        },
        {
          "output_type": "execute_result",
          "data": {
            "text/plain": [
              "0"
            ]
          },
          "metadata": {},
          "execution_count": 52
        }
      ],
      "source": [
        "from confluent_kafka import Producer\n",
        "import time\n",
        "import json\n",
        "from uuid import uuid4\n",
        "\n",
        "p = Producer({'bootstrap.servers': 'ec2-13-229-46-113.ap-southeast-1.compute.amazonaws.com:9092'})\n",
        "\n",
        "def delivery_report(err, msg):\n",
        "    \"\"\" Called once for each message produced to indicate delivery result.\n",
        "        Triggered by poll() or flush(). \"\"\"\n",
        "    if err is not None:\n",
        "        print('Message delivery failed: {}'.format(err))\n",
        "    else:\n",
        "        print('Message delivered to {}'.format(msg.value().decode('utf-8')))\n",
        "\n",
        "#file1 = open('message.txt', 'r') \n",
        "#Lines = ['a a a','b b','c c c c c'] #file1.readlines()\n",
        "\n",
        "#jsonString1 = \"\"\"name:Gal,age:20\"\"\"\n",
        "#jsonString2 = \"\"\"name:Pok,age:25\"\"\"\n",
        "#jsonString3 = \"\"\"name:Vyy,age:30\"\"\"\n",
        "#jsonString4 = \"\"\" {\"id\":2,\"firstname\":\"Peter2\",\"middlename\":\"\",\"lastname\":\"Parker3\",\"dob_year\":2018,\"dob_month\":1,\"gender\":\"M\",\"salary\":3000} \"\"\"\n",
        "#jsonv4 = jsonString4.encode()\n",
        "#jsonString5 = \"\"\" {\"id\":0001,\"country\":\"Thailand\"} \"\"\"\n",
        "#jsonv5 = jsonString5.encode()\n",
        "jsonString1 = \"\"\" {\"id\":1,\"country\":\"Thailand\"} \"\"\"\n",
        "jsonv1 = jsonString1.encode()\n",
        "jsonString2 = \"\"\" {\"id\":2,\"country\":\"Thailand\"} \"\"\"\n",
        "jsonv2 = jsonString2.encode()\n",
        "jsonString3 = \"\"\" {\"id\":3,\"country\":\"England\"} \"\"\"\n",
        "jsonv3 = jsonString3.encode()\n",
        "jsonString4 = \"\"\" {\"id\":4,\"country\":\"England\"} \"\"\"\n",
        "jsonv4 = jsonString4.encode()\n",
        "jsonString5 = \"\"\" {\"id\":5,\"country\":\"Japan\"} \"\"\"\n",
        "jsonv5 = jsonString5.encode()\n",
        "jsonString6 = \"\"\" {\"id\":6,\"country\":\"Japan\"} \"\"\"\n",
        "jsonv6 = jsonString6.encode()\n",
        "jsonString7 = \"\"\" {\"id\":7,\"country\":\"Thailand\"} \"\"\"\n",
        "jsonv7 = jsonString7.encode()\n",
        "jsonString8 = \"\"\" {\"id\":8,\"country\":\"Japan\"} \"\"\"\n",
        "jsonv8 = jsonString8.encode()\n",
        "jsonString9 = \"\"\" {\"id\":9,\"country\":\"England\"} \"\"\"\n",
        "jsonv9 = jsonString9.encode()\n",
        "jsonString10 = \"\"\" {\"id\":10,\"country\":\"England\"} \"\"\"\n",
        "jsonv10 = jsonString10.encode()\n",
        "#jsonString6 = \"\"\" {\"id\":3,\"firstname\":\"Peter3\",\"middlename\":\"\",\"lastname\":\"Parker3\",\"dob_year\":2018,\"dob_month\":1,\"gender\":\"M\",\"salary\":5000} \"\"\"\n",
        "#jsonv6 = jsonString6.encode()\n",
        "\n",
        "#jsonv1 = jsonString1.encode()\n",
        "#jsonv2 = jsonString2.encode()\n",
        "#jsonv3 = jsonString3.encode()\n",
        "#Lines = [jsonv5]\n",
        "Lines = [jsonv1, jsonv2, jsonv3,jsonv4,jsonv5,jsonv6,jsonv7,jsonv8,jsonv9,jsonv10]\n",
        "\n",
        "\n",
        "for line in Lines:\n",
        "    p.poll(0)\n",
        "    sendMsg = line #line.encode().decode('utf-8').strip('\\n')\n",
        "    p.produce('my-first-topic2-mmbk8', key=str(uuid4()), value=sendMsg , callback=delivery_report)\n",
        "    time.sleep(2)\n",
        "    #windowedWordCounts = line.reduceByKeyAndWindow(lambda x, y: x + y, lambda x, y: x - y, 10, 5)\n",
        "\n",
        "p.flush()"
      ]
    },
    {
      "cell_type": "code",
      "execution_count": null,
      "metadata": {
        "id": "ZimcN4LHXkE8"
      },
      "outputs": [],
      "source": []
    }
  ],
  "metadata": {
    "colab": {
      "provenance": [],
      "include_colab_link": true
    },
    "kernelspec": {
      "display_name": "Python 3",
      "name": "python3"
    },
    "language_info": {
      "name": "python"
    }
  },
  "nbformat": 4,
  "nbformat_minor": 0
}