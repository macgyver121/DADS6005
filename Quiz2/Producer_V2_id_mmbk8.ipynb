{
  "nbformat": 4,
  "nbformat_minor": 0,
  "metadata": {
    "colab": {
      "provenance": [],
      "include_colab_link": true
    },
    "kernelspec": {
      "name": "python3",
      "display_name": "Python 3"
    },
    "language_info": {
      "name": "python"
    }
  },
  "cells": [
    {
      "cell_type": "markdown",
      "metadata": {
        "id": "view-in-github",
        "colab_type": "text"
      },
      "source": [
        "<a href=\"https://colab.research.google.com/github/macgyver121/DADS6005/blob/main/Quiz2/Producer_V2_id_mmbk8.ipynb\" target=\"_parent\"><img src=\"https://colab.research.google.com/assets/colab-badge.svg\" alt=\"Open In Colab\"/></a>"
      ]
    },
    {
      "cell_type": "code",
      "source": [
        "!pip install confluent_kafka"
      ],
      "metadata": {
        "colab": {
          "base_uri": "https://localhost:8080/"
        },
        "id": "iEOZKcobYWbr",
        "outputId": "269f2b63-4fb5-4a49-b7d6-f91423e1c6ed"
      },
      "execution_count": null,
      "outputs": [
        {
          "output_type": "stream",
          "name": "stdout",
          "text": [
            "Looking in indexes: https://pypi.org/simple, https://us-python.pkg.dev/colab-wheels/public/simple/\n",
            "Collecting confluent_kafka\n",
            "  Downloading confluent_kafka-1.9.2-cp37-cp37m-manylinux_2_17_x86_64.manylinux2014_x86_64.whl (3.1 MB)\n",
            "\u001b[K     |████████████████████████████████| 3.1 MB 4.1 MB/s \n",
            "\u001b[?25hInstalling collected packages: confluent-kafka\n",
            "Successfully installed confluent-kafka-1.9.2\n"
          ]
        }
      ]
    },
    {
      "cell_type": "code",
      "execution_count": 55,
      "metadata": {
        "colab": {
          "base_uri": "https://localhost:8080/"
        },
        "id": "UbHPxw_kYTI3",
        "outputId": "782c1c06-8193-4cd0-b693-8abd23b4caa9"
      },
      "outputs": [
        {
          "output_type": "stream",
          "name": "stdout",
          "text": [
            "Message delivered to  {\"id\":1,\"num_click\":5} \n",
            "Message delivered to  {\"id\":2,\"num_click\":2} \n",
            "Message delivered to  {\"id\":3,\"num_click\":10} \n",
            "Message delivered to  {\"id\":4,\"num_click\":6} \n",
            "Message delivered to  {\"id\":5,\"num_click\":7} \n",
            "Message delivered to  {\"id\":6,\"num_click\":3} \n",
            "Message delivered to  {\"id\":7,\"num_click\":2} \n",
            "Message delivered to  {\"id\":8,\"num_click\":5} \n",
            "Message delivered to  {\"id\":9,\"num_click\":4} \n",
            "Message delivered to  {\"id\":10,\"num_click\":9} \n"
          ]
        },
        {
          "output_type": "execute_result",
          "data": {
            "text/plain": [
              "0"
            ]
          },
          "metadata": {},
          "execution_count": 55
        }
      ],
      "source": [
        "from confluent_kafka import Producer\n",
        "import time\n",
        "import json\n",
        "from uuid import uuid4\n",
        "\n",
        "p = Producer({'bootstrap.servers': 'ec2-13-229-46-113.ap-southeast-1.compute.amazonaws.com:9092'})\n",
        "\n",
        "def delivery_report(err, msg):\n",
        "    \"\"\" Called once for each message produced to indicate delivery result.\n",
        "        Triggered by poll() or flush(). \"\"\"\n",
        "    if err is not None:\n",
        "        print('Message delivery failed: {}'.format(err))\n",
        "    else:\n",
        "        print('Message delivered to {}'.format(msg.value().decode('utf-8')))\n",
        "\n",
        "#file1 = open('message.txt', 'r') \n",
        "#Lines = ['a a a','b b','c c c c c'] #file1.readlines()\n",
        "\n",
        "#jsonString1 = \"\"\"name:Gal,age:20\"\"\"\n",
        "#jsonString2 = \"\"\"name:Pok,age:25\"\"\"\n",
        "#jsonString3 = \"\"\"name:Vyy,age:30\"\"\"\n",
        "jsonString1 = \"\"\" {\"id\":1,\"num_click\":5} \"\"\"\n",
        "jsonString2 = \"\"\" {\"id\":2,\"num_click\":2} \"\"\"\n",
        "jsonString3 = \"\"\" {\"id\":3,\"num_click\":10} \"\"\"\n",
        "jsonString4 = \"\"\" {\"id\":4,\"num_click\":6} \"\"\"\n",
        "jsonString5 = \"\"\" {\"id\":5,\"num_click\":7} \"\"\"\n",
        "jsonString6 = \"\"\" {\"id\":6,\"num_click\":3} \"\"\"\n",
        "jsonString7 = \"\"\" {\"id\":7,\"num_click\":2} \"\"\"\n",
        "jsonString8 = \"\"\" {\"id\":8,\"num_click\":5} \"\"\"\n",
        "jsonString9 = \"\"\" {\"id\":9,\"num_click\":4} \"\"\"\n",
        "jsonString10 = \"\"\" {\"id\":10,\"num_click\":9} \"\"\"\n",
        "\n",
        "jsonv1 = jsonString1.encode()\n",
        "jsonv2 = jsonString2.encode()\n",
        "jsonv3 = jsonString3.encode()\n",
        "jsonv4 = jsonString4.encode()\n",
        "jsonv5 = jsonString5.encode()\n",
        "jsonv6 = jsonString6.encode()\n",
        "jsonv7 = jsonString7.encode()\n",
        "jsonv8 = jsonString8.encode()\n",
        "jsonv9 = jsonString9.encode()\n",
        "jsonv10 = jsonString10.encode()\n",
        "\n",
        "\n",
        "#jsonString5 = \"\"\" {\"id\":3,\"hobby\":\"Tennis\"} \"\"\"\n",
        "#jsonv5 = jsonString5.encode()\n",
        "#jsonString6 = \"\"\" {\"id\":1,\"hobby\":\"Pingpong\"} \"\"\"\n",
        "#jsonv6 = jsonString6.encode()\n",
        "\n",
        "#jsonv1 = jsonString1.encode()\n",
        "#jsonv2 = jsonString2.encode()\n",
        "#jsonv3 = jsonString3.encode()\n",
        "Lines = [jsonv1, jsonv2, jsonv3,jsonv4,jsonv5,jsonv6,jsonv7,jsonv8,jsonv9,jsonv10]\n",
        "\n",
        "for line in Lines:\n",
        "    p.poll(0)\n",
        "    sendMsg = line #line.encode().decode('utf-8').strip('\\n')\n",
        "    p.produce('my-first-topic-mmbk8', key=str(uuid4()), value=sendMsg , callback=delivery_report)\n",
        "    time.sleep(2)\n",
        "\n",
        "p.flush()"
      ]
    },
    {
      "cell_type": "code",
      "source": [],
      "metadata": {
        "id": "prvoSZ6kXjZ7"
      },
      "execution_count": null,
      "outputs": []
    }
  ]
}